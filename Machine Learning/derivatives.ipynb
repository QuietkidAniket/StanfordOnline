{
 "cells": [
  {
   "cell_type": "code",
   "execution_count": 3,
   "metadata": {},
   "outputs": [],
   "source": [
    "import tensorflow  as tf"
   ]
  },
  {
   "cell_type": "code",
   "execution_count": 5,
   "metadata": {},
   "outputs": [],
   "source": [
    "w = tf.Variable(3.0) # variable parameters we want to optimize\n",
    "x = 1.0\n",
    "y = 1.0 # target value\n",
    "\n",
    "alpha = 0.01\n",
    "\n",
    "iterations = 30\n"
   ]
  },
  {
   "cell_type": "code",
   "execution_count": 6,
   "metadata": {},
   "outputs": [],
   "source": [
    "for iter in range(iterations):\n",
    "    # Use tensorflow's Gradient tape to record the steps \n",
    "    # used to compute cost J, to enable auto differentiation\n",
    "    with tf.GradientTape() as tape:\n",
    "        fwb = w * x\n",
    "        costJ = (fwb - y)**2\n",
    "\n",
    "    # Use the gradient tape to calculate the gradients of the cost w.r.t the parameter w\n",
    "    [dJdw] = tape.gradient(costJ, [w])\n",
    "\n",
    "    # run one step of gradient descent by updating the value of w to reduce the cost\n",
    "    w.assign_add(-alpha * dJdw)   # tensorflow variables require special function to modify"
   ]
  },
  {
   "cell_type": "code",
   "execution_count": null,
   "metadata": {},
   "outputs": [],
   "source": []
  }
 ],
 "metadata": {
  "kernelspec": {
   "display_name": "StanfordOnline",
   "language": "python",
   "name": "python3"
  },
  "language_info": {
   "codemirror_mode": {
    "name": "ipython",
    "version": 3
   },
   "file_extension": ".py",
   "mimetype": "text/x-python",
   "name": "python",
   "nbconvert_exporter": "python",
   "pygments_lexer": "ipython3",
   "version": "3.11.6"
  }
 },
 "nbformat": 4,
 "nbformat_minor": 2
}
