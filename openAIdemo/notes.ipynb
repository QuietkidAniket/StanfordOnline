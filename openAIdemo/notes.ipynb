{
 "cells": [
  {
   "cell_type": "markdown",
   "metadata": {},
   "source": [
    "## Notes:\n",
    "* Structural modelling\n",
    "    ```\n",
    "    module full_subtractor(x,y,bin, diff, borr);\n",
    "    input x,y,bin;\n",
    "    output diff, borr;\n",
    "    wire w1,w2,w3,w4,xnot;\n",
    "    not n1(xnot, x);\n",
    "    xor x1(w1,xnot,y,);\n",
    "    xor x2(diff, bin, w1);\n",
    "    and a1(w2, x,y);\n",
    "    and a2(w3, x, bin);\n",
    "    not n2(w4, a2);\n",
    "    or o1(borr, a1, a2);\n",
    "    endmodule \n",
    "    ```\n",
    "* Dataflow modelling\n",
    "    ``` \n",
    "    module full_subtractor(x,y, bin,diff,borr);\n",
    "    input x,y,bin;\n",
    "    output diff, borr;\n",
    "    assign diff = (x^y)^bin;\n",
    "    assign borr = (~x & y) | bin & ~(x^y);\n",
    "    endmodule;\n",
    "    ```\n",
    "* Behavioral modelling\n",
    "    ```\n",
    "    module full_subtractor(x,y,bin,diff, borr);\n",
    "    input x,y,bin;\n",
    "    output reg diff, borr;\n",
    "    always @(x or y or bin)\n",
    "    begin \n",
    "    (borr, diff) = ~x + y + bin;\n",
    "    end\n",
    "    endmodule\n",
    "    ```\n"
   ]
  },
  {
   "cell_type": "markdown",
   "metadata": {},
   "source": []
  }
 ],
 "metadata": {
  "language_info": {
   "name": "python"
  }
 },
 "nbformat": 4,
 "nbformat_minor": 2
}
