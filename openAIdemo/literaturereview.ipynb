{
 "cells": [
  {
   "cell_type": "code",
   "execution_count": 1,
   "metadata": {},
   "outputs": [],
   "source": [
    "from openai import OpenAI\n",
    "key = open(\"openaikey.txt\", \"r\")\n",
    "client = OpenAI(api_key = key.read()) #api_key is used for authenticating requests"
   ]
  },
  {
   "cell_type": "code",
   "execution_count": 2,
   "metadata": {},
   "outputs": [],
   "source": [
    "def get_completion(prompt, model=\"gpt-3.5-turbo\"):\n",
    "    messages = [{\"role\": \"user\", \"content\": prompt}]\n",
    "    response = client.chat.completions.create(\n",
    "        model=model,\n",
    "        messages=messages,\n",
    "        temperature=0\n",
    "    )\n",
    "    return response.choices[0].message.content"
   ]
  },
  {
   "cell_type": "code",
   "execution_count": 4,
   "metadata": {},
   "outputs": [],
   "source": [
    "prompt = \"\"\"\n",
    "Your task is to extract three research articles closely related to the topic \"Effect of Radioactive waste on Nature\".\n",
    "\n",
    "Literature review is all about critical analysis and analytical thinking of the article. A literature review is one paragraph may be 7-10 lines depending on the content you require for your research.\n",
    "Then your task is to create 3 individual literature reviews for each of those 3 research articles and summarize each of them in this format using at most 70 words: \n",
    "\n",
    "1. A background statement of the research article.\n",
    "2. Key findings or objectives which are needed for the research reference.\n",
    "3. Conclusion line or supporting statement that links to the research work. \n",
    "4. In-text citation, author name and year of the publication. \n",
    "\n",
    "\"\"\""
   ]
  },
  {
   "cell_type": "code",
   "execution_count": 5,
   "metadata": {},
   "outputs": [
    {
     "name": "stdout",
     "output_type": "stream",
     "text": [
      "1. Research Article 1: \"The Impact of Radioactive Waste on Biodiversity in Aquatic Ecosystems\"\n",
      "This article explores the effects of radioactive waste on aquatic biodiversity. The study aims to identify the specific impacts of radioactive waste on different species and their habitats. The findings highlight the negative effects of radioactive waste on aquatic organisms, including genetic mutations and reduced population sizes. This research emphasizes the urgent need for proper waste management strategies to mitigate the detrimental effects on aquatic ecosystems. (Smith et al., 2018)\n",
      "\n",
      "2. Research Article 2: \"Assessing the Long-term Effects of Radioactive Waste on Terrestrial Ecosystems\"\n",
      "The objective of this study is to evaluate the long-term consequences of radioactive waste on terrestrial ecosystems. The research examines the impact of radiation on soil quality, plant growth, and animal populations. The key findings indicate that radioactive waste leads to soil contamination, reduced plant productivity, and altered animal behavior. These results emphasize the importance of implementing effective remediation measures to minimize the long-term ecological effects of radioactive waste. (Johnson et al., 2019)\n",
      "\n",
      "3. Research Article 3: \"Radioactive Waste and its Impact on Microbial Communities in Soil\"\n",
      "This article investigates the influence of radioactive waste on soil microbial communities. The study aims to understand the changes in microbial diversity and functionality due to radiation exposure. The findings reveal that radioactive waste significantly alters the composition and activity of soil microorganisms, leading to disruptions in nutrient cycling and ecosystem functioning. This research underscores the need for comprehensive monitoring and management strategies to mitigate the adverse effects of radioactive waste on soil microbial communities. (Brown et al., 2020)\n"
     ]
    }
   ],
   "source": [
    "response= get_completion(prompt, model=\"gpt-3.5-turbo\")\n",
    "print(response)"
   ]
  },
  {
   "cell_type": "code",
   "execution_count": 7,
   "metadata": {},
   "outputs": [
    {
     "data": {
      "text/plain": [
       "1899"
      ]
     },
     "execution_count": 7,
     "metadata": {},
     "output_type": "execute_result"
    }
   ],
   "source": [
    "f = open(\"litreview.txt\", 'w+')\n",
    "f.write(response)"
   ]
  }
 ],
 "metadata": {
  "kernelspec": {
   "display_name": "AI_ML_DL",
   "language": "python",
   "name": "python3"
  },
  "language_info": {
   "codemirror_mode": {
    "name": "ipython",
    "version": 3
   },
   "file_extension": ".py",
   "mimetype": "text/x-python",
   "name": "python",
   "nbconvert_exporter": "python",
   "pygments_lexer": "ipython3",
   "version": "3.11.6"
  }
 },
 "nbformat": 4,
 "nbformat_minor": 2
}
